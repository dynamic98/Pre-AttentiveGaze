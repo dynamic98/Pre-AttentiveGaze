{
 "cells": [
  {
   "cell_type": "markdown",
   "metadata": {},
   "source": [
    "<H1>Load Data"
   ]
  },
  {
   "cell_type": "code",
   "execution_count": 4,
   "metadata": {},
   "outputs": [],
   "source": [
    "import os\n",
    "import pandas as pd\n",
    "\n",
    "filepath = 'data/Raw Dataset/Validation data.tsv'\n",
    "df = pd.read_csv(filepath, sep='\\t')\n",
    "\n"
   ]
  },
  {
   "cell_type": "markdown",
   "metadata": {},
   "source": [
    "<H1>Figure 8"
   ]
  },
  {
   "cell_type": "code",
   "execution_count": null,
   "metadata": {},
   "outputs": [],
   "source": [
    "import matplotlib.pyplot as plt\n",
    "import seaborn as sns\n",
    "\n",
    "# Boxplot for Average validation accuracy with specific styling\n",
    "plt.figure(figsize=(10, 6))\n",
    "sns.boxplot(\n",
    "    data=df,\n",
    "    x='Participant',\n",
    "    y='Average validation accuracy',\n",
    "    linewidth=1.5,\n",
    "    fliersize=3,\n",
    "    boxprops=dict(facecolor='none', edgecolor='blue', linewidth=1.5),\n",
    "    medianprops=dict(color='red', linewidth=1.5)\n",
    ")\n",
    "plt.title(\"(a) Average Validation Accuracy by Participants\")\n",
    "plt.xlabel(\"Participant\")\n",
    "plt.ylabel(\"Average Validation Accuracy (pixels)\")\n",
    "plt.xticks(rotation=45)\n",
    "plt.tight_layout()\n",
    "plt.show()\n",
    "\n",
    "# Boxplot for Average validation precision RMS with specific styling\n",
    "plt.figure(figsize=(10, 6))\n",
    "sns.boxplot(\n",
    "    data=df,\n",
    "    x='Participant',\n",
    "    y='Average validation precision RMS',\n",
    "    linewidth=1.5,\n",
    "    fliersize=3,\n",
    "    boxprops=dict(facecolor='none', edgecolor='blue', linewidth=1.5),\n",
    "    medianprops=dict(color='red', linewidth=1.5)\n",
    ")\n",
    "plt.title(\"(b) Average Validation Precision RMS by Participants\")\n",
    "plt.xlabel(\"Participant\")\n",
    "plt.ylabel(\"Average Validation Precision RMS (pixels)\")\n",
    "plt.xticks(rotation=45)\n",
    "plt.tight_layout()\n",
    "plt.show()\n"
   ]
  }
 ],
 "metadata": {
  "kernelspec": {
   "display_name": "PreAttentiveGazeAuth",
   "language": "python",
   "name": "python3"
  },
  "language_info": {
   "codemirror_mode": {
    "name": "ipython",
    "version": 3
   },
   "file_extension": ".py",
   "mimetype": "text/x-python",
   "name": "python",
   "nbconvert_exporter": "python",
   "pygments_lexer": "ipython3",
   "version": "3.10.14"
  }
 },
 "nbformat": 4,
 "nbformat_minor": 2
}
